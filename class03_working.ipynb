{
  "nbformat": 4,
  "nbformat_minor": 0,
  "metadata": {
    "colab": {
      "provenance": [],
      "authorship_tag": "ABX9TyMhv+XiEg0wlPzi66w8MDJK",
      "include_colab_link": true
    },
    "kernelspec": {
      "name": "python3",
      "display_name": "Python 3"
    },
    "language_info": {
      "name": "python"
    }
  },
  "cells": [
    {
      "cell_type": "markdown",
      "metadata": {
        "id": "view-in-github",
        "colab_type": "text"
      },
      "source": [
        "<a href=\"https://colab.research.google.com/github/QASIM-ALI-110/AGENTIC-AI-CLASS-PROJECT/blob/main/class03_working.ipynb\" target=\"_parent\"><img src=\"https://colab.research.google.com/assets/colab-badge.svg\" alt=\"Open In Colab\"/></a>"
      ]
    },
    {
      "cell_type": "code",
      "execution_count": null,
      "metadata": {
        "id": "dse4ov3U0MYb"
      },
      "outputs": [],
      "source": [
        "#operators\n",
        "#1= arithematical operator\n",
        "#2=assignment operator\n",
        "#3=comparison operator\n",
        "#4=logical operator\n",
        "\n",
        "#1= arithematical operator\n",
        "\n",
        "# +,-,*,/,%\n",
        "\n",
        "print(5+5)\n",
        "print(5-5)\n",
        "print(5*5)\n",
        "print(5/5)\n",
        "print(5//11)\n",
        "print(11//5)\n",
        "print(12%5)#(remainder module)\n",
        "print(8**2)#(exponent)\n",
        "\n",
        "#2=assigment operators\n",
        "x=5 #(= is a assigment operator)\n",
        "x=x-2\n",
        "print(x)\n",
        "\n",
        "a=20\n",
        "b=10\n",
        "x=(a+b)\n",
        "print(x)\n",
        "\n",
        "a=10\n",
        "b=40\n",
        "x=(a+b)\n",
        "print(x)\n",
        "\n",
        "#comparison operators\n",
        "\n",
        "# == (equal)\n",
        "# > (greater than)\n",
        "# < (less than)\n",
        "# >= (greater or equal to)\n",
        "# <= (less than or equal to)\n",
        "# != (not equal to)\n",
        "\n",
        "# logical operators\n",
        "\n",
        "# and , or , not\n",
        "\n",
        "#num1=3\n",
        "#num2=5\n",
        "#print(num1>2 or num1<5)"
      ]
    }
  ]
}